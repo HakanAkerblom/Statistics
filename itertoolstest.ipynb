{
 "cells": [
  {
   "cell_type": "code",
   "execution_count": 2,
   "metadata": {},
   "outputs": [
    {
     "data": {
      "text/plain": [
       "79"
      ]
     },
     "execution_count": 2,
     "metadata": {},
     "output_type": "execute_result"
    }
   ],
   "source": [
    "from itertools import combinations\n",
    "\n",
    "len(\n",
    "    [\n",
    "        1\n",
    "        for kombo in combinations(\n",
    "            [\n",
    "                \"vit\",\n",
    "                \"vit\",\n",
    "                \"vit\",\n",
    "                \"svart\",\n",
    "                \"svart\",\n",
    "                \"svart\",\n",
    "                \"blå\",\n",
    "                \"blå\",\n",
    "                \"röd\",\n",
    "                \"röd\",\n",
    "            ],\n",
    "            6,\n",
    "        )\n",
    "        if kombo.count(\"vit\") >= 2 and kombo.count(\"svart\") >= 2\n",
    "    ]\n",
    ")\n"
   ]
  },
  {
   "cell_type": "code",
   "execution_count": 3,
   "metadata": {},
   "outputs": [
    {
     "data": {
      "text/plain": [
       "79"
      ]
     },
     "execution_count": 3,
     "metadata": {},
     "output_type": "execute_result"
    }
   ],
   "source": [
    "\n",
    "\n",
    "sum = 0\n",
    "for kombo in combinations(\n",
    "            [\n",
    "                \"vit\",\n",
    "                \"vit\",\n",
    "                \"vit\",\n",
    "                \"svart\",\n",
    "                \"svart\",\n",
    "                \"svart\",\n",
    "                \"blå\",\n",
    "                \"blå\",\n",
    "                \"röd\",\n",
    "                \"röd\",\n",
    "            ],\n",
    "            6,\n",
    "        ):\n",
    "    if kombo.count(\"vit\") >= 2 and kombo.count(\"svart\") >= 2:\n",
    "        sum+=1\n",
    "\n",
    "sum"
   ]
  },
  {
   "cell_type": "code",
   "execution_count": 4,
   "metadata": {},
   "outputs": [
    {
     "data": {
      "text/plain": [
       "[1, 16, 81, 100, 121, 144, 169, 196, 361, 441, 841]"
      ]
     },
     "execution_count": 4,
     "metadata": {},
     "output_type": "execute_result"
    }
   ],
   "source": [
    "my_list = [x**2 for x in range(30) if \"1\" in str(x**2)]\n",
    "my_list"
   ]
  },
  {
   "cell_type": "code",
   "execution_count": 5,
   "metadata": {},
   "outputs": [
    {
     "data": {
      "text/plain": [
       "True"
      ]
     },
     "execution_count": 5,
     "metadata": {},
     "output_type": "execute_result"
    }
   ],
   "source": [
    "4<5"
   ]
  },
  {
   "cell_type": "code",
   "execution_count": 9,
   "metadata": {},
   "outputs": [
    {
     "name": "stdout",
     "output_type": "stream",
     "text": [
      "(0, 1, 2)\n",
      "(0, 1, 3)\n",
      "(0, 1, 4)\n",
      "(0, 2, 3)\n",
      "(0, 2, 4)\n",
      "(0, 3, 4)\n",
      "(1, 2, 3)\n",
      "(1, 2, 4)\n",
      "(1, 3, 4)\n",
      "(2, 3, 4)\n"
     ]
    }
   ],
   "source": [
    "from itertools import permutations\n",
    "\n",
    "for kombo in combinations(range(5), 3):\n",
    "    print(kombo)"
   ]
  },
  {
   "cell_type": "code",
   "execution_count": null,
   "metadata": {},
   "outputs": [],
   "source": []
  }
 ],
 "metadata": {
  "kernelspec": {
   "display_name": "Statistics-rVXIYyyQ",
   "language": "python",
   "name": "python3"
  },
  "language_info": {
   "codemirror_mode": {
    "name": "ipython",
    "version": 3
   },
   "file_extension": ".py",
   "mimetype": "text/x-python",
   "name": "python",
   "nbconvert_exporter": "python",
   "pygments_lexer": "ipython3",
   "version": "3.9.13"
  },
  "orig_nbformat": 4,
  "vscode": {
   "interpreter": {
    "hash": "fea5929d202cc7497be08e1dc7b3cc4fe3f64a1519019aed2d7fa8a2d185330d"
   }
  }
 },
 "nbformat": 4,
 "nbformat_minor": 2
}
