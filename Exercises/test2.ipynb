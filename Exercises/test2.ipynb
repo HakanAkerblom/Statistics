{
 "cells": [
  {
   "cell_type": "code",
   "execution_count": 40,
   "metadata": {},
   "outputs": [
    {
     "name": "stdout",
     "output_type": "stream",
     "text": [
      "10 2 1\n"
     ]
    }
   ],
   "source": [
    "import numpy as np\n",
    "\n",
    "rv_1 = np.random.normal(size=100)\n",
    "rv_2 = np.random.normal(size=100)\n",
    "\n",
    "score_1, score_2, score_3 = 0, 0, 0\n",
    "\n",
    "for element in rv_1:\n",
    "    if element > 1.96 or element < -1.96:\n",
    "        score_1 += 1\n",
    "\n",
    "for element in rv_2:\n",
    "    if element > 1.96 or element < -1.96:\n",
    "        score_2 += 1\n",
    "\n",
    "for i, j in zip(rv_1, rv_2):\n",
    "    if (i + j) / 2 > 1.96 or (i + j) / 2 < -1.96:\n",
    "        score_3 += 1\n",
    "\n",
    "print(score_1, score_2, score_3)\n"
   ]
  },
  {
   "cell_type": "code",
   "execution_count": null,
   "metadata": {},
   "outputs": [],
   "source": []
  }
 ],
 "metadata": {
  "kernelspec": {
   "display_name": "Statistics-rVXIYyyQ",
   "language": "python",
   "name": "python3"
  },
  "language_info": {
   "codemirror_mode": {
    "name": "ipython",
    "version": 3
   },
   "file_extension": ".py",
   "mimetype": "text/x-python",
   "name": "python",
   "nbconvert_exporter": "python",
   "pygments_lexer": "ipython3",
   "version": "3.9.13"
  },
  "orig_nbformat": 4,
  "vscode": {
   "interpreter": {
    "hash": "fea5929d202cc7497be08e1dc7b3cc4fe3f64a1519019aed2d7fa8a2d185330d"
   }
  }
 },
 "nbformat": 4,
 "nbformat_minor": 2
}
