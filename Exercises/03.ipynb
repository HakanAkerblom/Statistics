{
 "cells": [
  {
   "cell_type": "code",
   "execution_count": 78,
   "metadata": {},
   "outputs": [
    {
     "data": {
      "text/plain": [
       "(array(3.), array(2.55))"
      ]
     },
     "execution_count": 78,
     "metadata": {},
     "output_type": "execute_result"
    }
   ],
   "source": [
    "# 3.11\n",
    "# X~B(20, 0.2)\n",
    "\n",
    "# a)\n",
    "from scipy import stats\n",
    "\n",
    "mean, var = stats.binom.stats(20, 0.15)\n",
    "mean, var"
   ]
  },
  {
   "cell_type": "code",
   "execution_count": 79,
   "metadata": {},
   "outputs": [
    {
     "data": {
      "text/plain": [
       "0.24282889614926748"
      ]
     },
     "execution_count": 79,
     "metadata": {},
     "output_type": "execute_result"
    }
   ],
   "source": [
    "# b)\n",
    "\n",
    "stats.binom.pmf(3, n=20, p=0.15)\n"
   ]
  },
  {
   "cell_type": "code",
   "execution_count": 80,
   "metadata": {},
   "outputs": [
    {
     "data": {
      "text/plain": [
       "0.5951037219925649"
      ]
     },
     "execution_count": 80,
     "metadata": {},
     "output_type": "execute_result"
    }
   ],
   "source": [
    "# c) \n",
    "1 - stats.binom.cdf(2, 20, 0.15)"
   ]
  },
  {
   "cell_type": "code",
   "execution_count": 81,
   "metadata": {},
   "outputs": [
    {
     "name": "stdout",
     "output_type": "stream",
     "text": [
      " After 24 times\n"
     ]
    }
   ],
   "source": [
    "# 3. 11 d)\n",
    "\n",
    "for n in range(50):\n",
    "    prob = 1 - stats.binom.cdf(2, n, 0.15)\n",
    "    if prob > 0.70:\n",
    "        print(f\" After {n} times\")\n",
    "        break\n",
    "        \n",
    "# Trying negative binomial\n",
    "# stats.nbinom.cdf(24, n=3, p=0.15)"
   ]
  },
  {
   "cell_type": "code",
   "execution_count": 82,
   "metadata": {},
   "outputs": [
    {
     "name": "stdout",
     "output_type": "stream",
     "text": [
      "She needs 18 percent chance each time\n"
     ]
    }
   ],
   "source": [
    "# 3.11 e)\n",
    "\n",
    "for p in range(15, 30):\n",
    "    prob = 1 - stats.binom.cdf(2, 20, p/100)\n",
    "    if prob > 0.70:\n",
    "        print(f\"She needs {p} percent chance each time\")\n",
    "        break"
   ]
  },
  {
   "cell_type": "code",
   "execution_count": 83,
   "metadata": {},
   "outputs": [
    {
     "name": "stdout",
     "output_type": "stream",
     "text": [
      "P(X=4) = 0.11078415109128402\n",
      "E(X) = 2.2\n"
     ]
    }
   ],
   "source": [
    "# 3.12\n",
    "\n",
    "print(f\"P(X=4) = {stats.binom.pmf(4, n=10, p=0.22)}\")\n",
    "print(f\"E(X) = {stats.binom.stats(10, 0.22)[0]}\")"
   ]
  },
  {
   "cell_type": "code",
   "execution_count": 89,
   "metadata": {},
   "outputs": [
    {
     "name": "stdout",
     "output_type": "stream",
     "text": [
      "He can expect to convert 3.0 people\n",
      "The chance he convert 4 people is 0.35276809252893027\n"
     ]
    }
   ],
   "source": [
    "# 3.13\n",
    "\n",
    "# a) X~B(3000, 0.001)\n",
    "# b)\n",
    "print(f\"He can expect to convert {stats.binom.stats(3000, 0.001)[0]} people\")\n",
    "\n",
    "print(f\"The chance he convert 4 people is {1 - stats.binom.cdf(3, n=3000, p=0.001)}\")"
   ]
  },
  {
   "cell_type": "code",
   "execution_count": 92,
   "metadata": {},
   "outputs": [
    {
     "name": "stdout",
     "output_type": "stream",
     "text": [
      "P(X=1) = 0.2706705664732254\n",
      "P(X<=1) = 0.40600584970983794\n",
      "P(X>=1) = 0.8646647167633873\n"
     ]
    }
   ],
   "source": [
    "# 3.14\n",
    "\n",
    "# Medelvärde = 2\n",
    "# Varians = 2\n",
    "# Standardavvikelse sqrt(2)\n",
    "\n",
    "print(f\"P(X=1) = {stats.poisson.pmf(1, 2)}\")\n",
    "print(f\"P(X<=1) = {stats.poisson.cdf(1, 2)}\")\n",
    "print(f\"P(X>=1) = {1 - stats.poisson.pmf(0, 2)}\")"
   ]
  },
  {
   "cell_type": "code",
   "execution_count": 94,
   "metadata": {},
   "outputs": [
    {
     "name": "stdout",
     "output_type": "stream",
     "text": [
      "0.21246926575014694\n",
      "0.12568912325754575\n",
      "0.29356155035871934\n"
     ]
    }
   ],
   "source": [
    "# 3.15\n",
    "\n",
    "print(stats.poisson.pmf(3, 3.6))\n",
    "print(stats.poisson.cdf(1, 3.6))\n",
    "print(1 - stats.poisson.cdf(4, 3.6))"
   ]
  },
  {
   "cell_type": "code",
   "execution_count": null,
   "metadata": {},
   "outputs": [],
   "source": []
  }
 ],
 "metadata": {
  "kernelspec": {
   "display_name": "Statistics-rVXIYyyQ",
   "language": "python",
   "name": "python3"
  },
  "language_info": {
   "codemirror_mode": {
    "name": "ipython",
    "version": 3
   },
   "file_extension": ".py",
   "mimetype": "text/x-python",
   "name": "python",
   "nbconvert_exporter": "python",
   "pygments_lexer": "ipython3",
   "version": "3.9.13"
  },
  "orig_nbformat": 4,
  "vscode": {
   "interpreter": {
    "hash": "fea5929d202cc7497be08e1dc7b3cc4fe3f64a1519019aed2d7fa8a2d185330d"
   }
  }
 },
 "nbformat": 4,
 "nbformat_minor": 2
}
