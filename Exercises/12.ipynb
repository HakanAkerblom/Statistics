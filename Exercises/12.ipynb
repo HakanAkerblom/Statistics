{
 "cells": [
  {
   "cell_type": "code",
   "execution_count": 7,
   "metadata": {},
   "outputs": [
    {
     "name": "stdout",
     "output_type": "stream",
     "text": [
      "                            OLS Regression Results                            \n",
      "==============================================================================\n",
      "Dep. Variable:                      Y   R-squared:                       0.814\n",
      "Model:                            OLS   Adj. R-squared:                  0.791\n",
      "Method:                 Least Squares   F-statistic:                     35.02\n",
      "Date:                Tue, 31 Jan 2023   Prob (F-statistic):           0.000355\n",
      "Time:                        11:29:15   Log-Likelihood:                -37.002\n",
      "No. Observations:                  10   AIC:                             78.00\n",
      "Df Residuals:                       8   BIC:                             78.61\n",
      "Df Model:                           1                                         \n",
      "Covariance Type:            nonrobust                                         \n",
      "==============================================================================\n",
      "                 coef    std err          t      P>|t|      [0.025      0.975]\n",
      "------------------------------------------------------------------------------\n",
      "Intercept     64.7942     10.364      6.252      0.000      40.896      88.693\n",
      "X              5.9594      1.007      5.918      0.000       3.637       8.282\n",
      "==============================================================================\n",
      "Omnibus:                        0.006   Durbin-Watson:                   0.994\n",
      "Prob(Omnibus):                  0.997   Jarque-Bera (JB):                0.219\n",
      "Skew:                           0.026   Prob(JB):                        0.896\n",
      "Kurtosis:                       2.276   Cond. No.                         31.1\n",
      "==============================================================================\n",
      "\n",
      "Notes:\n",
      "[1] Standard Errors assume that the covariance matrix of the errors is correctly specified.\n"
     ]
    },
    {
     "name": "stderr",
     "output_type": "stream",
     "text": [
      "c:\\Users\\hakan\\.virtualenvs\\Statistics-rVXIYyyQ\\lib\\site-packages\\scipy\\stats\\_stats_py.py:1736: UserWarning: kurtosistest only valid for n>=20 ... continuing anyway, n=10\n",
      "  warnings.warn(\"kurtosistest only valid for n>=20 ... continuing \"\n"
     ]
    }
   ],
   "source": [
    "import pandas as pd\n",
    "import statsmodels.formula.api as smf\n",
    "X = pd.Series([4, 5, 7, 9, 12, 14, 15, 9, 11, 11])\n",
    "Y = pd.Series([86, 95, 112, 136, 141, 159, 147, 102, 118, 130])\n",
    "df = pd.DataFrame({\"col1\": X, \"col2\": Y})\n",
    "df.head(15)\n",
    "\n",
    "model = smf.ols(\"Y ~ X\", data=df).fit()\n",
    "print(model.summary())"
   ]
  },
  {
   "cell_type": "code",
   "execution_count": null,
   "metadata": {},
   "outputs": [],
   "source": []
  }
 ],
 "metadata": {
  "kernelspec": {
   "display_name": "Statistics-rVXIYyyQ",
   "language": "python",
   "name": "python3"
  },
  "language_info": {
   "codemirror_mode": {
    "name": "ipython",
    "version": 3
   },
   "file_extension": ".py",
   "mimetype": "text/x-python",
   "name": "python",
   "nbconvert_exporter": "python",
   "pygments_lexer": "ipython3",
   "version": "3.9.13"
  },
  "orig_nbformat": 4,
  "vscode": {
   "interpreter": {
    "hash": "fea5929d202cc7497be08e1dc7b3cc4fe3f64a1519019aed2d7fa8a2d185330d"
   }
  }
 },
 "nbformat": 4,
 "nbformat_minor": 2
}
